{
 "cells": [
  {
   "cell_type": "code",
   "execution_count": 1,
   "id": "bda3c27b",
   "metadata": {},
   "outputs": [],
   "source": [
    "import pandas as pd\n",
    "from google.cloud import bigquery\n",
    "import fasttext"
   ]
  },
  {
   "cell_type": "code",
   "execution_count": 2,
   "id": "8202f7f2",
   "metadata": {},
   "outputs": [
    {
     "name": "stderr",
     "output_type": "stream",
     "text": [
      "/home/rodrigobenitez/anaconda3/lib/python3.9/site-packages/google/auth/_default.py:79: UserWarning: Your application has authenticated using end user credentials from Google Cloud SDK without a quota project. You might receive a \"quota exceeded\" or \"API not enabled\" error. We recommend you rerun `gcloud auth application-default login` and make sure a quota project is added. Or you can use service accounts instead. For more information about service accounts, see https://cloud.google.com/docs/authentication/\n",
      "  warnings.warn(_CLOUD_SDK_CREDENTIALS_WARNING)\n",
      "/home/rodrigobenitez/anaconda3/lib/python3.9/site-packages/google/auth/_default.py:79: UserWarning: Your application has authenticated using end user credentials from Google Cloud SDK without a quota project. You might receive a \"quota exceeded\" or \"API not enabled\" error. We recommend you rerun `gcloud auth application-default login` and make sure a quota project is added. Or you can use service accounts instead. For more information about service accounts, see https://cloud.google.com/docs/authentication/\n",
      "  warnings.warn(_CLOUD_SDK_CREDENTIALS_WARNING)\n"
     ]
    }
   ],
   "source": [
    "country_id = 1\n",
    "\n",
    "products_query = f\"\"\"\n",
    "    SELECT * \n",
    "    FROM `peya-food-and-groceries.user_rodrigo_benitez.product_categories`\n",
    "    WHERE country_id = {country_id}\n",
    "    \"\"\"\n",
    "\n",
    "client = bigquery.Client()\n",
    "products_ds = client.query(products_query).to_dataframe()"
   ]
  },
  {
   "cell_type": "code",
   "execution_count": 3,
   "id": "c9484078",
   "metadata": {},
   "outputs": [],
   "source": [
    "# TO CSV"
   ]
  },
  {
   "cell_type": "code",
   "execution_count": 4,
   "id": "1ee38c9f",
   "metadata": {},
   "outputs": [
    {
     "data": {
      "text/html": [
       "<div>\n",
       "<style scoped>\n",
       "    .dataframe tbody tr th:only-of-type {\n",
       "        vertical-align: middle;\n",
       "    }\n",
       "\n",
       "    .dataframe tbody tr th {\n",
       "        vertical-align: top;\n",
       "    }\n",
       "\n",
       "    .dataframe thead th {\n",
       "        text-align: right;\n",
       "    }\n",
       "</style>\n",
       "<table border=\"1\" class=\"dataframe\">\n",
       "  <thead>\n",
       "    <tr style=\"text-align: right;\">\n",
       "      <th></th>\n",
       "      <th>partner_id</th>\n",
       "      <th>partner_name</th>\n",
       "      <th>partner_description</th>\n",
       "      <th>business_type_id</th>\n",
       "      <th>business_type_name</th>\n",
       "      <th>country_id</th>\n",
       "      <th>legacyId_section</th>\n",
       "      <th>section_name</th>\n",
       "      <th>product_legacy_id</th>\n",
       "      <th>product_id</th>\n",
       "      <th>product_name</th>\n",
       "      <th>product_description</th>\n",
       "      <th>gtin</th>\n",
       "      <th>category_level_1_2_3</th>\n",
       "    </tr>\n",
       "  </thead>\n",
       "  <tbody>\n",
       "    <tr>\n",
       "      <th>34228</th>\n",
       "      <td>369621</td>\n",
       "      <td>Kiosco 24 - La Teja</td>\n",
       "      <td>None</td>\n",
       "      <td>2</td>\n",
       "      <td>Market</td>\n",
       "      <td>1</td>\n",
       "      <td>5006384</td>\n",
       "      <td>Alfajores, chocolates y golosinas</td>\n",
       "      <td>90743096</td>\n",
       "      <td>90743096</td>\n",
       "      <td>Garoto Tabletas Jumbo Leche 90Gr</td>\n",
       "      <td></td>\n",
       "      <td>07891008168884</td>\n",
       "      <td>Snacks | Confectionary | Chocolates</td>\n",
       "    </tr>\n",
       "    <tr>\n",
       "      <th>29266</th>\n",
       "      <td>322204</td>\n",
       "      <td>Salon 13</td>\n",
       "      <td>None</td>\n",
       "      <td>2</td>\n",
       "      <td>Market</td>\n",
       "      <td>1</td>\n",
       "      <td>4008025</td>\n",
       "      <td>Limpieza De La Casa</td>\n",
       "      <td>72181693</td>\n",
       "      <td>72181693</td>\n",
       "      <td>Higienol Sin Fin Plus Papel Higienico Simple Hoja 4Rollosx50M</td>\n",
       "      <td></td>\n",
       "      <td>07730219010707</td>\n",
       "      <td>Home / Pet | Disposables | Paper Products</td>\n",
       "    </tr>\n",
       "    <tr>\n",
       "      <th>112664</th>\n",
       "      <td>306455</td>\n",
       "      <td>Madre Tierra Paso Molino</td>\n",
       "      <td>None</td>\n",
       "      <td>2</td>\n",
       "      <td>Market</td>\n",
       "      <td>1</td>\n",
       "      <td>5583591</td>\n",
       "      <td>Gluten Free</td>\n",
       "      <td>98397124</td>\n",
       "      <td>98397124</td>\n",
       "      <td>Vainilla Repostera X60Ml</td>\n",
       "      <td></td>\n",
       "      <td>None</td>\n",
       "      <td>None</td>\n",
       "    </tr>\n",
       "    <tr>\n",
       "      <th>57210</th>\n",
       "      <td>249118</td>\n",
       "      <td>Autoservicio Corner Shop</td>\n",
       "      <td>None</td>\n",
       "      <td>2</td>\n",
       "      <td>Market</td>\n",
       "      <td>1</td>\n",
       "      <td>2819707</td>\n",
       "      <td>Despensa</td>\n",
       "      <td>100456946</td>\n",
       "      <td>100456946</td>\n",
       "      <td>Esencia De Vainilla Monte Cudi Frasco 60 Cc</td>\n",
       "      <td></td>\n",
       "      <td>07730177000369</td>\n",
       "      <td>Packaged Foods | Cooking / Condiments / Baking / Herbs / Spices | Cooking / Baking</td>\n",
       "    </tr>\n",
       "    <tr>\n",
       "      <th>60039</th>\n",
       "      <td>161038</td>\n",
       "      <td>PedidosYa Market 2</td>\n",
       "      <td>None</td>\n",
       "      <td>2</td>\n",
       "      <td>Market</td>\n",
       "      <td>1</td>\n",
       "      <td>5372192</td>\n",
       "      <td>Insecticidas</td>\n",
       "      <td>79509175</td>\n",
       "      <td>79509175</td>\n",
       "      <td>Tableta Insecticida Jupiter 24 Unidades</td>\n",
       "      <td></td>\n",
       "      <td>07840001005986</td>\n",
       "      <td>Home / Pet | Household | Pest Control</td>\n",
       "    </tr>\n",
       "  </tbody>\n",
       "</table>\n",
       "</div>"
      ],
      "text/plain": [
       "        partner_id              partner_name partner_description  \\\n",
       "34228       369621       Kiosco 24 - La Teja                None   \n",
       "29266       322204                  Salon 13                None   \n",
       "112664      306455  Madre Tierra Paso Molino                None   \n",
       "57210       249118  Autoservicio Corner Shop                None   \n",
       "60039       161038        PedidosYa Market 2                None   \n",
       "\n",
       "        business_type_id business_type_name  country_id  legacyId_section  \\\n",
       "34228                  2             Market           1           5006384   \n",
       "29266                  2             Market           1           4008025   \n",
       "112664                 2             Market           1           5583591   \n",
       "57210                  2             Market           1           2819707   \n",
       "60039                  2             Market           1           5372192   \n",
       "\n",
       "                             section_name  product_legacy_id product_id  \\\n",
       "34228   Alfajores, chocolates y golosinas           90743096   90743096   \n",
       "29266                 Limpieza De La Casa           72181693   72181693   \n",
       "112664                        Gluten Free           98397124   98397124   \n",
       "57210                            Despensa          100456946  100456946   \n",
       "60039                        Insecticidas           79509175   79509175   \n",
       "\n",
       "                                                         product_name  \\\n",
       "34228                                Garoto Tabletas Jumbo Leche 90Gr   \n",
       "29266   Higienol Sin Fin Plus Papel Higienico Simple Hoja 4Rollosx50M   \n",
       "112664                                       Vainilla Repostera X60Ml   \n",
       "57210                     Esencia De Vainilla Monte Cudi Frasco 60 Cc   \n",
       "60039                         Tableta Insecticida Jupiter 24 Unidades   \n",
       "\n",
       "       product_description            gtin  \\\n",
       "34228                       07891008168884   \n",
       "29266                       07730219010707   \n",
       "112664                                None   \n",
       "57210                       07730177000369   \n",
       "60039                       07840001005986   \n",
       "\n",
       "                                                                      category_level_1_2_3  \n",
       "34228                                                  Snacks | Confectionary | Chocolates  \n",
       "29266                                            Home / Pet | Disposables | Paper Products  \n",
       "112664                                                                                None  \n",
       "57210   Packaged Foods | Cooking / Condiments / Baking / Herbs / Spices | Cooking / Baking  \n",
       "60039                                                Home / Pet | Household | Pest Control  "
      ]
     },
     "execution_count": 4,
     "metadata": {},
     "output_type": "execute_result"
    }
   ],
   "source": [
    "pd.set_option('display.max_colwidth', None)\n",
    "\n",
    "products_ds.sample(5)"
   ]
  },
  {
   "cell_type": "code",
   "execution_count": 5,
   "id": "d6dd4968",
   "metadata": {},
   "outputs": [],
   "source": [
    "model_info = products_ds[['product_id', 'product_name', 'category_level_1_2_3']].fillna('')"
   ]
  },
  {
   "cell_type": "code",
   "execution_count": 6,
   "id": "145b6b73",
   "metadata": {},
   "outputs": [
    {
     "data": {
      "text/html": [
       "<div>\n",
       "<style scoped>\n",
       "    .dataframe tbody tr th:only-of-type {\n",
       "        vertical-align: middle;\n",
       "    }\n",
       "\n",
       "    .dataframe tbody tr th {\n",
       "        vertical-align: top;\n",
       "    }\n",
       "\n",
       "    .dataframe thead th {\n",
       "        text-align: right;\n",
       "    }\n",
       "</style>\n",
       "<table border=\"1\" class=\"dataframe\">\n",
       "  <thead>\n",
       "    <tr style=\"text-align: right;\">\n",
       "      <th></th>\n",
       "      <th>product_id</th>\n",
       "      <th>product_name</th>\n",
       "      <th>category_level_1_2_3</th>\n",
       "    </tr>\n",
       "  </thead>\n",
       "  <tbody>\n",
       "    <tr>\n",
       "      <th>198517</th>\n",
       "      <td>6566481</td>\n",
       "      <td>Queso Casancrem Clasico 320 g</td>\n",
       "      <td></td>\n",
       "    </tr>\n",
       "    <tr>\n",
       "      <th>253342</th>\n",
       "      <td>90690557</td>\n",
       "      <td>Pamplona De Cerdo - 0.5 Kg</td>\n",
       "      <td></td>\n",
       "    </tr>\n",
       "    <tr>\n",
       "      <th>31470</th>\n",
       "      <td>84268738</td>\n",
       "      <td>Garbanzos Revelacion 400 Grms</td>\n",
       "      <td>Packaged Foods | Canned / Jarred / Instant Meals | Canned Vegetables</td>\n",
       "    </tr>\n",
       "    <tr>\n",
       "      <th>256358</th>\n",
       "      <td>101713621</td>\n",
       "      <td>Chocolate Milka Aireado 100 G.</td>\n",
       "      <td>Snacks | Confectionary | Chocolates</td>\n",
       "    </tr>\n",
       "    <tr>\n",
       "      <th>205514</th>\n",
       "      <td>98439726</td>\n",
       "      <td>Premezcla Cocina Mix Exent Sin Gluten 500 G</td>\n",
       "      <td>Packaged Foods | Cooking / Condiments / Baking / Herbs / Spices | Cooking / Baking</td>\n",
       "    </tr>\n",
       "  </tbody>\n",
       "</table>\n",
       "</div>"
      ],
      "text/plain": [
       "       product_id                                 product_name  \\\n",
       "198517    6566481                Queso Casancrem Clasico 320 g   \n",
       "253342   90690557                   Pamplona De Cerdo - 0.5 Kg   \n",
       "31470    84268738                Garbanzos Revelacion 400 Grms   \n",
       "256358  101713621               Chocolate Milka Aireado 100 G.   \n",
       "205514   98439726  Premezcla Cocina Mix Exent Sin Gluten 500 G   \n",
       "\n",
       "                                                                      category_level_1_2_3  \n",
       "198517                                                                                      \n",
       "253342                                                                                      \n",
       "31470                 Packaged Foods | Canned / Jarred / Instant Meals | Canned Vegetables  \n",
       "256358                                                 Snacks | Confectionary | Chocolates  \n",
       "205514  Packaged Foods | Cooking / Condiments / Baking / Herbs / Spices | Cooking / Baking  "
      ]
     },
     "execution_count": 6,
     "metadata": {},
     "output_type": "execute_result"
    }
   ],
   "source": [
    "model_info.sample(5)"
   ]
  },
  {
   "cell_type": "markdown",
   "id": "a560b8ad",
   "metadata": {},
   "source": [
    "Proceso de limpieza de texto, aqui se modifican cosas como:\n",
    "- se eliminan numeros\n",
    "- se normaliza texto a lowercase\n",
    "- se elimina simbología especial (Ñ, tildes, dieresis) con librería UNICODE\n",
    "- eliminar UNIDADES de MEDIA ????? (tokenizar y ver palabras de 1,2 y 3 gramas)"
   ]
  },
  {
   "cell_type": "code",
   "execution_count": 7,
   "id": "038ec7fa",
   "metadata": {},
   "outputs": [],
   "source": [
    "import re\n",
    "from unidecode import unidecode\n",
    "\n",
    "def preprocess_text(text):\n",
    "    word = re.sub('\\n', ' ', text, re.UNICODE)\n",
    "    word = unidecode(word)\n",
    "    word = re.sub(r'[^\\w\\s]', '', word, re.UNICODE)\n",
    "    word = re.sub(r\"\\b(\\d+|[a-z])\\b *\", '', word, re.UNICODE)\n",
    "    word = re.sub(r'[0-9]+', '', word)\n",
    "#     word = re.sub(r'[0-9]+', '', word)\n",
    "    word = word.lower()\n",
    "    word = word.strip()\n",
    "    return word"
   ]
  },
  {
   "cell_type": "code",
   "execution_count": 8,
   "id": "9917beea",
   "metadata": {},
   "outputs": [
    {
     "data": {
      "text/html": [
       "<div>\n",
       "<style scoped>\n",
       "    .dataframe tbody tr th:only-of-type {\n",
       "        vertical-align: middle;\n",
       "    }\n",
       "\n",
       "    .dataframe tbody tr th {\n",
       "        vertical-align: top;\n",
       "    }\n",
       "\n",
       "    .dataframe thead th {\n",
       "        text-align: right;\n",
       "    }\n",
       "</style>\n",
       "<table border=\"1\" class=\"dataframe\">\n",
       "  <thead>\n",
       "    <tr style=\"text-align: right;\">\n",
       "      <th></th>\n",
       "      <th>product_id</th>\n",
       "      <th>product_name</th>\n",
       "      <th>category_level_1_2_3</th>\n",
       "      <th>full_text</th>\n",
       "      <th>preprocessed_text</th>\n",
       "    </tr>\n",
       "  </thead>\n",
       "  <tbody>\n",
       "    <tr>\n",
       "      <th>16331</th>\n",
       "      <td>49791334</td>\n",
       "      <td>Snack Trofeu Salado 40G Pimienta</td>\n",
       "      <td>Snacks | Other Snacks |</td>\n",
       "      <td>Snacks | Other Snacks |  Snack Trofeu Salado 40G Pimienta</td>\n",
       "      <td>snacks  other snacks   snack trofeu salado g pimienta</td>\n",
       "    </tr>\n",
       "    <tr>\n",
       "      <th>115207</th>\n",
       "      <td>98246228</td>\n",
       "      <td>Helado Conaprole 1L Frutos Del Bosque</td>\n",
       "      <td>Frozen | Ice Cream / Desserts |</td>\n",
       "      <td>Frozen | Ice Cream / Desserts |  Helado Conaprole 1L Frutos Del Bosque</td>\n",
       "      <td>frozen  ice cream  desserts   helado conaprole l frutos del bosque</td>\n",
       "    </tr>\n",
       "    <tr>\n",
       "      <th>80681</th>\n",
       "      <td>67625299</td>\n",
       "      <td>Mini Croquetas Congeladas Jamon Y Queso 300G Artico</td>\n",
       "      <td>Frozen | Frozen Convenience / Bakery | Convenience Food</td>\n",
       "      <td>Frozen | Frozen Convenience / Bakery | Convenience Food Mini Croquetas Congeladas Jamon Y Queso 300G Artico</td>\n",
       "      <td>frozen  frozen convenience  bakery  convenience food mini croquetas congeladas jamon y queso g artico</td>\n",
       "    </tr>\n",
       "    <tr>\n",
       "      <th>10741</th>\n",
       "      <td>72983728</td>\n",
       "      <td>Galleta Salvado Tripack 360G Maestro Cubano</td>\n",
       "      <td>Packaged Foods | Breakfast / Spreads | Crackers</td>\n",
       "      <td>Packaged Foods | Breakfast / Spreads | Crackers Galleta Salvado Tripack 360G Maestro Cubano</td>\n",
       "      <td>packaged foods  breakfast  spreads  crackers galleta salvado tripack g maestro cubano</td>\n",
       "    </tr>\n",
       "    <tr>\n",
       "      <th>216949</th>\n",
       "      <td>49679002</td>\n",
       "      <td>Chorizo Cantimpalos Unidad</td>\n",
       "      <td>Meat / Seafood | Meat | Pork</td>\n",
       "      <td>Meat / Seafood | Meat | Pork Chorizo Cantimpalos Unidad</td>\n",
       "      <td>meat  seafood  meat  pork chorizo cantimpalos unidad</td>\n",
       "    </tr>\n",
       "  </tbody>\n",
       "</table>\n",
       "</div>"
      ],
      "text/plain": [
       "       product_id                                         product_name  \\\n",
       "16331    49791334                     Snack Trofeu Salado 40G Pimienta   \n",
       "115207   98246228                Helado Conaprole 1L Frutos Del Bosque   \n",
       "80681    67625299  Mini Croquetas Congeladas Jamon Y Queso 300G Artico   \n",
       "10741    72983728          Galleta Salvado Tripack 360G Maestro Cubano   \n",
       "216949   49679002                           Chorizo Cantimpalos Unidad   \n",
       "\n",
       "                                           category_level_1_2_3  \\\n",
       "16331                                  Snacks | Other Snacks |    \n",
       "115207                         Frozen | Ice Cream / Desserts |    \n",
       "80681   Frozen | Frozen Convenience / Bakery | Convenience Food   \n",
       "10741           Packaged Foods | Breakfast / Spreads | Crackers   \n",
       "216949                             Meat / Seafood | Meat | Pork   \n",
       "\n",
       "                                                                                                          full_text  \\\n",
       "16331                                                     Snacks | Other Snacks |  Snack Trofeu Salado 40G Pimienta   \n",
       "115207                                       Frozen | Ice Cream / Desserts |  Helado Conaprole 1L Frutos Del Bosque   \n",
       "80681   Frozen | Frozen Convenience / Bakery | Convenience Food Mini Croquetas Congeladas Jamon Y Queso 300G Artico   \n",
       "10741                   Packaged Foods | Breakfast / Spreads | Crackers Galleta Salvado Tripack 360G Maestro Cubano   \n",
       "216949                                                      Meat / Seafood | Meat | Pork Chorizo Cantimpalos Unidad   \n",
       "\n",
       "                                                                                            preprocessed_text  \n",
       "16331                                                   snacks  other snacks   snack trofeu salado g pimienta  \n",
       "115207                                     frozen  ice cream  desserts   helado conaprole l frutos del bosque  \n",
       "80681   frozen  frozen convenience  bakery  convenience food mini croquetas congeladas jamon y queso g artico  \n",
       "10741                   packaged foods  breakfast  spreads  crackers galleta salvado tripack g maestro cubano  \n",
       "216949                                                   meat  seafood  meat  pork chorizo cantimpalos unidad  "
      ]
     },
     "execution_count": 8,
     "metadata": {},
     "output_type": "execute_result"
    }
   ],
   "source": [
    "model_info['full_text'] = model_info['category_level_1_2_3'] + ' ' + model_info['product_name']\n",
    "model_info['preprocessed_text'] = model_info['full_text'].apply(preprocess_text)\n",
    "\n",
    "model_info.sample(5)"
   ]
  },
  {
   "cell_type": "code",
   "execution_count": 9,
   "id": "b1a8143b",
   "metadata": {},
   "outputs": [],
   "source": [
    "model_info[['preprocessed_text']].to_csv('/home/rodrigobenitez/Documents/GitHub/Proyecto-Final-IMF/datasets/model_input.csv', index=False)"
   ]
  },
  {
   "cell_type": "code",
   "execution_count": 10,
   "id": "3c1173a2",
   "metadata": {
    "scrolled": false
   },
   "outputs": [],
   "source": [
    "# model = fasttext.train_unsupervised('/home/rodrigobenitez/Documents/GitHub/Proyecto-Final-IMF/datasets/model_input.csv')"
   ]
  },
  {
   "cell_type": "code",
   "execution_count": 11,
   "id": "3fe29bf6",
   "metadata": {},
   "outputs": [],
   "source": [
    "# model.save_model('/home/rodrigobenitez/Documents/GitHub/Proyecto-Final-IMF/Model/no_supervisado.bin')"
   ]
  },
  {
   "cell_type": "code",
   "execution_count": 12,
   "id": "6893b970",
   "metadata": {},
   "outputs": [
    {
     "name": "stderr",
     "output_type": "stream",
     "text": [
      "Warning : `load_model` does not return WordVectorModel or SupervisedModel any more, but a `FastText` object which is very similar.\n"
     ]
    }
   ],
   "source": [
    "model = fasttext.load_model('/home/rodrigobenitez/Documents/GitHub/Proyecto-Final-IMF/Model/no_supervisado.bin')"
   ]
  },
  {
   "cell_type": "code",
   "execution_count": 13,
   "id": "8e2d9fc9",
   "metadata": {},
   "outputs": [
    {
     "name": "stdout",
     "output_type": "stream",
     "text": [
      "Similares a aceite:\n",
      "['aceit', 'aceita', 'acete', 'oliva', 'olivar', 'extvirgen', 'olivas', 'olivo', 'oliovita', 'olivares']\n"
     ]
    }
   ],
   "source": [
    "text_words = ['aceite']\n",
    "for word in text_words:\n",
    "    print(f'Similares a {word}:')\n",
    "    print([words[1] for words in model.get_nearest_neighbors(word)])"
   ]
  },
  {
   "cell_type": "code",
   "execution_count": null,
   "id": "32c64173",
   "metadata": {},
   "outputs": [],
   "source": []
  },
  {
   "cell_type": "code",
   "execution_count": null,
   "id": "80422d08",
   "metadata": {},
   "outputs": [],
   "source": []
  },
  {
   "cell_type": "code",
   "execution_count": 14,
   "id": "2f9f917a",
   "metadata": {},
   "outputs": [],
   "source": [
    "product_embeddings = [model.get_sentence_vector(product_name) for product_name in model_info['preprocessed_text']]"
   ]
  },
  {
   "cell_type": "code",
   "execution_count": 15,
   "id": "6a349094",
   "metadata": {},
   "outputs": [
    {
     "name": "stdout",
     "output_type": "stream",
     "text": [
      "<class 'pandas.core.frame.DataFrame'>\n",
      "RangeIndex: 298790 entries, 0 to 298789\n",
      "Data columns (total 5 columns):\n",
      " #   Column                Non-Null Count   Dtype \n",
      "---  ------                --------------   ----- \n",
      " 0   product_id            298790 non-null  object\n",
      " 1   product_name          298790 non-null  object\n",
      " 2   category_level_1_2_3  298790 non-null  object\n",
      " 3   full_text             298790 non-null  object\n",
      " 4   preprocessed_text     298790 non-null  object\n",
      "dtypes: object(5)\n",
      "memory usage: 11.4+ MB\n"
     ]
    }
   ],
   "source": [
    "model_info.info()"
   ]
  },
  {
   "cell_type": "code",
   "execution_count": 16,
   "id": "9e4cd566",
   "metadata": {},
   "outputs": [],
   "source": [
    "model_info['product_id'] = pd.to_numeric(model_info['product_id'])"
   ]
  },
  {
   "cell_type": "code",
   "execution_count": 17,
   "id": "c140ee5b",
   "metadata": {},
   "outputs": [],
   "source": [
    "from annoy import AnnoyIndex\n",
    "\n",
    "annoy_index = AnnoyIndex(len(product_embeddings[0]), 'angular')\n",
    "\n",
    "# for product, product_embedding in zip(model_info.iterrows(), product_embeddings):\n",
    "#     product_id = product[1]['product_id']\n",
    "#     annoy_index.add_item(product_id, product_embedding)\n",
    "\n",
    "# annoy_index.build(10)"
   ]
  },
  {
   "cell_type": "code",
   "execution_count": 18,
   "id": "3b2c4ad8",
   "metadata": {},
   "outputs": [],
   "source": [
    "# similar_products = annoy_index.get_nns_by_item(66153365, 10)\n",
    "# products.loc[similar_products]"
   ]
  },
  {
   "cell_type": "code",
   "execution_count": null,
   "id": "edb1ecde",
   "metadata": {},
   "outputs": [],
   "source": []
  }
 ],
 "metadata": {
  "kernelspec": {
   "display_name": "Python 3 (ipykernel)",
   "language": "python",
   "name": "python3"
  },
  "language_info": {
   "codemirror_mode": {
    "name": "ipython",
    "version": 3
   },
   "file_extension": ".py",
   "mimetype": "text/x-python",
   "name": "python",
   "nbconvert_exporter": "python",
   "pygments_lexer": "ipython3",
   "version": "3.9.12"
  }
 },
 "nbformat": 4,
 "nbformat_minor": 5
}
