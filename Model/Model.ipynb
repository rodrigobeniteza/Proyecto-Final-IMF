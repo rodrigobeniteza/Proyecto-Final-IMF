{
 "cells": [
  {
   "cell_type": "code",
   "execution_count": 1,
   "id": "bda3c27b",
   "metadata": {},
   "outputs": [],
   "source": [
    "import pandas as pd\n",
    "from google.cloud import bigquery\n",
    "import fasttext"
   ]
  },
  {
   "cell_type": "code",
   "execution_count": 2,
   "id": "8202f7f2",
   "metadata": {},
   "outputs": [
    {
     "name": "stderr",
     "output_type": "stream",
     "text": [
      "/home/rodrigobenitez/anaconda3/lib/python3.9/site-packages/google/auth/_default.py:79: UserWarning: Your application has authenticated using end user credentials from Google Cloud SDK without a quota project. You might receive a \"quota exceeded\" or \"API not enabled\" error. We recommend you rerun `gcloud auth application-default login` and make sure a quota project is added. Or you can use service accounts instead. For more information about service accounts, see https://cloud.google.com/docs/authentication/\n",
      "  warnings.warn(_CLOUD_SDK_CREDENTIALS_WARNING)\n",
      "/home/rodrigobenitez/anaconda3/lib/python3.9/site-packages/google/auth/_default.py:79: UserWarning: Your application has authenticated using end user credentials from Google Cloud SDK without a quota project. You might receive a \"quota exceeded\" or \"API not enabled\" error. We recommend you rerun `gcloud auth application-default login` and make sure a quota project is added. Or you can use service accounts instead. For more information about service accounts, see https://cloud.google.com/docs/authentication/\n",
      "  warnings.warn(_CLOUD_SDK_CREDENTIALS_WARNING)\n"
     ]
    }
   ],
   "source": [
    "country_id = 1\n",
    "\n",
    "products_query = f\"\"\"\n",
    "    SELECT * \n",
    "    FROM `peya-food-and-groceries.user_rodrigo_benitez.product_categories`\n",
    "    WHERE country_id = {country_id}\n",
    "    \"\"\"\n",
    "\n",
    "client = bigquery.Client()\n",
    "products_ds = client.query(products_query).to_dataframe()"
   ]
  },
  {
   "cell_type": "code",
   "execution_count": 3,
   "id": "c9484078",
   "metadata": {},
   "outputs": [],
   "source": [
    "# TO CSV"
   ]
  },
  {
   "cell_type": "code",
   "execution_count": 4,
   "id": "1ee38c9f",
   "metadata": {},
   "outputs": [
    {
     "data": {
      "text/html": [
       "<div>\n",
       "<style scoped>\n",
       "    .dataframe tbody tr th:only-of-type {\n",
       "        vertical-align: middle;\n",
       "    }\n",
       "\n",
       "    .dataframe tbody tr th {\n",
       "        vertical-align: top;\n",
       "    }\n",
       "\n",
       "    .dataframe thead th {\n",
       "        text-align: right;\n",
       "    }\n",
       "</style>\n",
       "<table border=\"1\" class=\"dataframe\">\n",
       "  <thead>\n",
       "    <tr style=\"text-align: right;\">\n",
       "      <th></th>\n",
       "      <th>partner_id</th>\n",
       "      <th>partner_name</th>\n",
       "      <th>partner_description</th>\n",
       "      <th>business_type_id</th>\n",
       "      <th>business_type_name</th>\n",
       "      <th>country_id</th>\n",
       "      <th>legacyId_section</th>\n",
       "      <th>section_name</th>\n",
       "      <th>product_legacy_id</th>\n",
       "      <th>product_id</th>\n",
       "      <th>product_name</th>\n",
       "      <th>product_description</th>\n",
       "      <th>gtin</th>\n",
       "      <th>category_level_1_2_3</th>\n",
       "    </tr>\n",
       "  </thead>\n",
       "  <tbody>\n",
       "    <tr>\n",
       "      <th>122161</th>\n",
       "      <td>244820</td>\n",
       "      <td>Maxi Kiosco 24 Hrs</td>\n",
       "      <td>None</td>\n",
       "      <td>2</td>\n",
       "      <td>Market</td>\n",
       "      <td>1</td>\n",
       "      <td>3030364</td>\n",
       "      <td>Golosinas, alfajores y chocolates</td>\n",
       "      <td>52234781</td>\n",
       "      <td>52234781</td>\n",
       "      <td>Chicles Beldent Sabor Mentol 10 g</td>\n",
       "      <td></td>\n",
       "      <td>00000077942395</td>\n",
       "      <td>Snacks | Confectionary | Candies, Mint / Gum</td>\n",
       "    </tr>\n",
       "    <tr>\n",
       "      <th>192081</th>\n",
       "      <td>233576</td>\n",
       "      <td>Punto Shop 3</td>\n",
       "      <td>None</td>\n",
       "      <td>2</td>\n",
       "      <td>Market</td>\n",
       "      <td>1</td>\n",
       "      <td>5801636</td>\n",
       "      <td>Infusiones, Endulzantes y Otros</td>\n",
       "      <td>101734240</td>\n",
       "      <td>101734240</td>\n",
       "      <td>Dulce De Leche Conaprole 250 g</td>\n",
       "      <td></td>\n",
       "      <td>07730105005121</td>\n",
       "      <td>Packaged Foods | Breakfast / Spreads | Spreads</td>\n",
       "    </tr>\n",
       "    <tr>\n",
       "      <th>68145</th>\n",
       "      <td>384245</td>\n",
       "      <td>De Casa Foods - Congelados</td>\n",
       "      <td>None</td>\n",
       "      <td>2</td>\n",
       "      <td>Market</td>\n",
       "      <td>1</td>\n",
       "      <td>5340856</td>\n",
       "      <td>Empanadas pack 6 unidades</td>\n",
       "      <td>94631325</td>\n",
       "      <td>94631325</td>\n",
       "      <td>Caprese</td>\n",
       "      <td></td>\n",
       "      <td>None</td>\n",
       "      <td>None</td>\n",
       "    </tr>\n",
       "    <tr>\n",
       "      <th>261238</th>\n",
       "      <td>190119</td>\n",
       "      <td>PedidosYa Market 5</td>\n",
       "      <td>None</td>\n",
       "      <td>2</td>\n",
       "      <td>Market</td>\n",
       "      <td>1</td>\n",
       "      <td>1925709</td>\n",
       "      <td>Aguas y aguas saborizadas</td>\n",
       "      <td>28194824</td>\n",
       "      <td>28194824</td>\n",
       "      <td>Agua Salus Cero Limón Clásica 1.5 L</td>\n",
       "      <td></td>\n",
       "      <td>07730400003204</td>\n",
       "      <td>Beverages | Water | Flavoured</td>\n",
       "    </tr>\n",
       "    <tr>\n",
       "      <th>55273</th>\n",
       "      <td>351717</td>\n",
       "      <td>El Propio Market</td>\n",
       "      <td>None</td>\n",
       "      <td>2</td>\n",
       "      <td>Market</td>\n",
       "      <td>1</td>\n",
       "      <td>4925039</td>\n",
       "      <td>Snacks</td>\n",
       "      <td>89613004</td>\n",
       "      <td>89613004</td>\n",
       "      <td>Papas Pringles Original Navidad - 149Gr</td>\n",
       "      <td></td>\n",
       "      <td>00038000201141</td>\n",
       "      <td>Snacks | Salty Snacks | Chips / Crisps</td>\n",
       "    </tr>\n",
       "  </tbody>\n",
       "</table>\n",
       "</div>"
      ],
      "text/plain": [
       "        partner_id                partner_name partner_description  \\\n",
       "122161      244820          Maxi Kiosco 24 Hrs                None   \n",
       "192081      233576                Punto Shop 3                None   \n",
       "68145       384245  De Casa Foods - Congelados                None   \n",
       "261238      190119          PedidosYa Market 5                None   \n",
       "55273       351717            El Propio Market                None   \n",
       "\n",
       "        business_type_id business_type_name  country_id  legacyId_section  \\\n",
       "122161                 2             Market           1           3030364   \n",
       "192081                 2             Market           1           5801636   \n",
       "68145                  2             Market           1           5340856   \n",
       "261238                 2             Market           1           1925709   \n",
       "55273                  2             Market           1           4925039   \n",
       "\n",
       "                             section_name  product_legacy_id product_id  \\\n",
       "122161  Golosinas, alfajores y chocolates           52234781   52234781   \n",
       "192081    Infusiones, Endulzantes y Otros          101734240  101734240   \n",
       "68145           Empanadas pack 6 unidades           94631325   94631325   \n",
       "261238          Aguas y aguas saborizadas           28194824   28194824   \n",
       "55273                              Snacks           89613004   89613004   \n",
       "\n",
       "                                   product_name product_description  \\\n",
       "122161        Chicles Beldent Sabor Mentol 10 g                       \n",
       "192081           Dulce De Leche Conaprole 250 g                       \n",
       "68145                                   Caprese                       \n",
       "261238      Agua Salus Cero Limón Clásica 1.5 L                       \n",
       "55273   Papas Pringles Original Navidad - 149Gr                       \n",
       "\n",
       "                  gtin                            category_level_1_2_3  \n",
       "122161  00000077942395    Snacks | Confectionary | Candies, Mint / Gum  \n",
       "192081  07730105005121  Packaged Foods | Breakfast / Spreads | Spreads  \n",
       "68145             None                                            None  \n",
       "261238  07730400003204                   Beverages | Water | Flavoured  \n",
       "55273   00038000201141          Snacks | Salty Snacks | Chips / Crisps  "
      ]
     },
     "execution_count": 4,
     "metadata": {},
     "output_type": "execute_result"
    }
   ],
   "source": [
    "pd.set_option('display.max_colwidth', None)\n",
    "\n",
    "products_ds.sample(5)"
   ]
  },
  {
   "cell_type": "code",
   "execution_count": 5,
   "id": "d6dd4968",
   "metadata": {},
   "outputs": [],
   "source": [
    "model_info = products_ds[['product_id', 'product_name', 'category_level_1_2_3']].fillna('')"
   ]
  },
  {
   "cell_type": "code",
   "execution_count": 6,
   "id": "145b6b73",
   "metadata": {},
   "outputs": [
    {
     "data": {
      "text/html": [
       "<div>\n",
       "<style scoped>\n",
       "    .dataframe tbody tr th:only-of-type {\n",
       "        vertical-align: middle;\n",
       "    }\n",
       "\n",
       "    .dataframe tbody tr th {\n",
       "        vertical-align: top;\n",
       "    }\n",
       "\n",
       "    .dataframe thead th {\n",
       "        text-align: right;\n",
       "    }\n",
       "</style>\n",
       "<table border=\"1\" class=\"dataframe\">\n",
       "  <thead>\n",
       "    <tr style=\"text-align: right;\">\n",
       "      <th></th>\n",
       "      <th>product_id</th>\n",
       "      <th>product_name</th>\n",
       "      <th>category_level_1_2_3</th>\n",
       "    </tr>\n",
       "  </thead>\n",
       "  <tbody>\n",
       "    <tr>\n",
       "      <th>122176</th>\n",
       "      <td>49790967</td>\n",
       "      <td>Chocolate con Leche Oreo Milka 55g</td>\n",
       "      <td>Snacks | Confectionary | Chocolates</td>\n",
       "    </tr>\n",
       "    <tr>\n",
       "      <th>119841</th>\n",
       "      <td>94190777</td>\n",
       "      <td>Agua Vitale Sin Gas 625 Ml</td>\n",
       "      <td>Beverages | Water | Still</td>\n",
       "    </tr>\n",
       "    <tr>\n",
       "      <th>105952</th>\n",
       "      <td>98339364</td>\n",
       "      <td>Vino Rosado Clasico Santa Teresa Tetra 1 L</td>\n",
       "      <td>BWS | Wine / Sparkling Wine |</td>\n",
       "    </tr>\n",
       "    <tr>\n",
       "      <th>284009</th>\n",
       "      <td>92129201</td>\n",
       "      <td>Café Soluble Bracafé 170 Gr + Recarga 50 Gr Gratis</td>\n",
       "      <td>Packaged Foods | Tea / Coffee | Coffee</td>\n",
       "    </tr>\n",
       "    <tr>\n",
       "      <th>26417</th>\n",
       "      <td>78354893</td>\n",
       "      <td>Sesamo Pelado La Abundancia 200 G</td>\n",
       "      <td>Packaged Foods | Pasta / Rice / Grains | Rice</td>\n",
       "    </tr>\n",
       "  </tbody>\n",
       "</table>\n",
       "</div>"
      ],
      "text/plain": [
       "       product_id                                        product_name  \\\n",
       "122176   49790967                  Chocolate con Leche Oreo Milka 55g   \n",
       "119841   94190777                          Agua Vitale Sin Gas 625 Ml   \n",
       "105952   98339364          Vino Rosado Clasico Santa Teresa Tetra 1 L   \n",
       "284009   92129201  Café Soluble Bracafé 170 Gr + Recarga 50 Gr Gratis   \n",
       "26417    78354893                   Sesamo Pelado La Abundancia 200 G   \n",
       "\n",
       "                                 category_level_1_2_3  \n",
       "122176            Snacks | Confectionary | Chocolates  \n",
       "119841                      Beverages | Water | Still  \n",
       "105952                 BWS | Wine / Sparkling Wine |   \n",
       "284009         Packaged Foods | Tea / Coffee | Coffee  \n",
       "26417   Packaged Foods | Pasta / Rice / Grains | Rice  "
      ]
     },
     "execution_count": 6,
     "metadata": {},
     "output_type": "execute_result"
    }
   ],
   "source": [
    "model_info.sample(5)"
   ]
  },
  {
   "cell_type": "markdown",
   "id": "a560b8ad",
   "metadata": {},
   "source": [
    "Proceso de limpieza de texto, aqui se modifican cosas como:\n",
    "- se eliminan numeros\n",
    "- se normaliza texto a lowercase\n",
    "- se elimina simbología especial (Ñ, tildes, dieresis) con librería UNICODE\n",
    "- eliminar UNIDADES de MEDIA ????? (tokenizar y ver palabras de 1,2 y 3 gramas)"
   ]
  },
  {
   "cell_type": "code",
   "execution_count": 7,
   "id": "038ec7fa",
   "metadata": {},
   "outputs": [],
   "source": [
    "import re\n",
    "from unidecode import unidecode\n",
    "\n",
    "def preprocess_text(text):\n",
    "    word = re.sub('\\n', ' ', text, re.UNICODE)\n",
    "    word = unidecode(word)\n",
    "    word = re.sub(r'[^\\w\\s]', '', word, re.UNICODE)\n",
    "    word = re.sub(r\"\\b(\\d+|[a-z])\\b *\", '', word, re.UNICODE)\n",
    "    word = re.sub(r'[0-9]+', '', word)\n",
    "#     word = re.sub(r'[0-9]+', '', word)\n",
    "    word = word.lower()\n",
    "    word = word.strip()\n",
    "    return word"
   ]
  },
  {
   "cell_type": "code",
   "execution_count": 8,
   "id": "9917beea",
   "metadata": {},
   "outputs": [
    {
     "data": {
      "text/html": [
       "<div>\n",
       "<style scoped>\n",
       "    .dataframe tbody tr th:only-of-type {\n",
       "        vertical-align: middle;\n",
       "    }\n",
       "\n",
       "    .dataframe tbody tr th {\n",
       "        vertical-align: top;\n",
       "    }\n",
       "\n",
       "    .dataframe thead th {\n",
       "        text-align: right;\n",
       "    }\n",
       "</style>\n",
       "<table border=\"1\" class=\"dataframe\">\n",
       "  <thead>\n",
       "    <tr style=\"text-align: right;\">\n",
       "      <th></th>\n",
       "      <th>product_id</th>\n",
       "      <th>product_name</th>\n",
       "      <th>category_level_1_2_3</th>\n",
       "      <th>full_text</th>\n",
       "      <th>preprocessed_text</th>\n",
       "    </tr>\n",
       "  </thead>\n",
       "  <tbody>\n",
       "    <tr>\n",
       "      <th>287240</th>\n",
       "      <td>84129615</td>\n",
       "      <td>Pan Para Chivitos Los Sorchantes 4 Un. 240 G</td>\n",
       "      <td>Bread / Bakery | Bread | Packaged</td>\n",
       "      <td>Bread / Bakery | Bread | Packaged Pan Para Chivitos Los Sorchantes 4 Un. 240 G</td>\n",
       "      <td>bread  bakery  bread  packaged pan para chivitos los sorchantes un g</td>\n",
       "    </tr>\n",
       "    <tr>\n",
       "      <th>222160</th>\n",
       "      <td>101715256</td>\n",
       "      <td>Limpiador Lysoform Baño Gatillo 500Cc</td>\n",
       "      <td>Home / Pet | Cleaning / Laundry | Cleaning Products</td>\n",
       "      <td>Home / Pet | Cleaning / Laundry | Cleaning Products Limpiador Lysoform Baño Gatillo 500Cc</td>\n",
       "      <td>home  pet  cleaning  laundry  cleaning products limpiador lysoform bano gatillo cc</td>\n",
       "    </tr>\n",
       "    <tr>\n",
       "      <th>55879</th>\n",
       "      <td>101698150</td>\n",
       "      <td>Bebida isotónica Powerade manzana 995 cc.</td>\n",
       "      <td>Beverages | Juice / Ice Tea / Sports / Energy | Sports</td>\n",
       "      <td>Beverages | Juice / Ice Tea / Sports / Energy | Sports Bebida isotónica Powerade manzana 995 cc.</td>\n",
       "      <td>beverages  juice  ice tea  sports  energy  sports bebida isotonica powerade manzana cc</td>\n",
       "    </tr>\n",
       "    <tr>\n",
       "      <th>170076</th>\n",
       "      <td>98440105</td>\n",
       "      <td>Puré De Papa Monte Cudine 125 G</td>\n",
       "      <td>Packaged Foods | Cooking / Condiments / Baking / Herbs / Spices | Cooking / Baking</td>\n",
       "      <td>Packaged Foods | Cooking / Condiments / Baking / Herbs / Spices | Cooking / Baking Puré De Papa Monte Cudine 125 G</td>\n",
       "      <td>packaged foods  cooking  condiments  baking  herbs  spices  cooking  baking pure de papa monte cudine g</td>\n",
       "    </tr>\n",
       "    <tr>\n",
       "      <th>31062</th>\n",
       "      <td>25178885</td>\n",
       "      <td>Esponja Virulana Siempre Limpia Unidad</td>\n",
       "      <td>Home / Pet | Disposables | Cleaning Accesories</td>\n",
       "      <td>Home / Pet | Disposables | Cleaning Accesories Esponja Virulana Siempre Limpia Unidad</td>\n",
       "      <td>home  pet  disposables  cleaning accesories esponja virulana siempre limpia unidad</td>\n",
       "    </tr>\n",
       "  </tbody>\n",
       "</table>\n",
       "</div>"
      ],
      "text/plain": [
       "       product_id                                  product_name  \\\n",
       "287240   84129615  Pan Para Chivitos Los Sorchantes 4 Un. 240 G   \n",
       "222160  101715256         Limpiador Lysoform Baño Gatillo 500Cc   \n",
       "55879   101698150     Bebida isotónica Powerade manzana 995 cc.   \n",
       "170076   98440105               Puré De Papa Monte Cudine 125 G   \n",
       "31062    25178885        Esponja Virulana Siempre Limpia Unidad   \n",
       "\n",
       "                                                                      category_level_1_2_3  \\\n",
       "287240                                                   Bread / Bakery | Bread | Packaged   \n",
       "222160                                 Home / Pet | Cleaning / Laundry | Cleaning Products   \n",
       "55879                               Beverages | Juice / Ice Tea / Sports / Energy | Sports   \n",
       "170076  Packaged Foods | Cooking / Condiments / Baking / Herbs / Spices | Cooking / Baking   \n",
       "31062                                       Home / Pet | Disposables | Cleaning Accesories   \n",
       "\n",
       "                                                                                                                 full_text  \\\n",
       "287240                                      Bread / Bakery | Bread | Packaged Pan Para Chivitos Los Sorchantes 4 Un. 240 G   \n",
       "222160                           Home / Pet | Cleaning / Laundry | Cleaning Products Limpiador Lysoform Baño Gatillo 500Cc   \n",
       "55879                     Beverages | Juice / Ice Tea / Sports / Energy | Sports Bebida isotónica Powerade manzana 995 cc.   \n",
       "170076  Packaged Foods | Cooking / Condiments / Baking / Herbs / Spices | Cooking / Baking Puré De Papa Monte Cudine 125 G   \n",
       "31062                                Home / Pet | Disposables | Cleaning Accesories Esponja Virulana Siempre Limpia Unidad   \n",
       "\n",
       "                                                                                              preprocessed_text  \n",
       "287240                                     bread  bakery  bread  packaged pan para chivitos los sorchantes un g  \n",
       "222160                       home  pet  cleaning  laundry  cleaning products limpiador lysoform bano gatillo cc  \n",
       "55879                    beverages  juice  ice tea  sports  energy  sports bebida isotonica powerade manzana cc  \n",
       "170076  packaged foods  cooking  condiments  baking  herbs  spices  cooking  baking pure de papa monte cudine g  \n",
       "31062                        home  pet  disposables  cleaning accesories esponja virulana siempre limpia unidad  "
      ]
     },
     "execution_count": 8,
     "metadata": {},
     "output_type": "execute_result"
    }
   ],
   "source": [
    "model_info['full_text'] = model_info['category_level_1_2_3'] + ' ' + model_info['product_name']\n",
    "model_info['preprocessed_text'] = model_info['full_text'].apply(preprocess_text)\n",
    "\n",
    "model_info.sample(5)"
   ]
  },
  {
   "cell_type": "code",
   "execution_count": 9,
   "id": "b1a8143b",
   "metadata": {},
   "outputs": [],
   "source": [
    "model_info[['preprocessed_text']].to_csv('/home/rodrigobenitez/Documents/GitHub/Proyecto-Final-IMF/datasets/model_input.csv', index=False)"
   ]
  },
  {
   "cell_type": "code",
   "execution_count": 10,
   "id": "3c1173a2",
   "metadata": {
    "scrolled": false
   },
   "outputs": [],
   "source": [
    "# model = fasttext.train_unsupervised('/home/rodrigobenitez/Documents/GitHub/Proyecto-Final-IMF/datasets/model_input.csv')"
   ]
  },
  {
   "cell_type": "code",
   "execution_count": 11,
   "id": "3fe29bf6",
   "metadata": {},
   "outputs": [],
   "source": [
    "# model.save_model('/home/rodrigobenitez/Documents/GitHub/Proyecto-Final-IMF/Model/no_supervisado.bin')"
   ]
  },
  {
   "cell_type": "code",
   "execution_count": 12,
   "id": "6893b970",
   "metadata": {},
   "outputs": [
    {
     "name": "stderr",
     "output_type": "stream",
     "text": [
      "Warning : `load_model` does not return WordVectorModel or SupervisedModel any more, but a `FastText` object which is very similar.\n"
     ]
    }
   ],
   "source": [
    "model = fasttext.load_model('/home/rodrigobenitez/Documents/GitHub/Proyecto-Final-IMF/Model/no_supervisado.bin')"
   ]
  },
  {
   "cell_type": "code",
   "execution_count": 13,
   "id": "8e2d9fc9",
   "metadata": {},
   "outputs": [
    {
     "name": "stdout",
     "output_type": "stream",
     "text": [
      "Similares a aceite:\n",
      "['aceit', 'aceita', 'acete', 'oliva', 'olivar', 'extvirgen', 'olivas', 'olivo', 'oliovita', 'olivares']\n"
     ]
    }
   ],
   "source": [
    "text_words = ['aceite']\n",
    "for word in text_words:\n",
    "    print(f'Similares a {word}:')\n",
    "    print([words[1] for words in model.get_nearest_neighbors(word)])"
   ]
  },
  {
   "cell_type": "code",
   "execution_count": null,
   "id": "32c64173",
   "metadata": {},
   "outputs": [],
   "source": []
  },
  {
   "cell_type": "code",
   "execution_count": null,
   "id": "80422d08",
   "metadata": {},
   "outputs": [],
   "source": []
  },
  {
   "cell_type": "code",
   "execution_count": 14,
   "id": "2f9f917a",
   "metadata": {},
   "outputs": [],
   "source": [
    "product_embeddings = [model.get_sentence_vector(product_name) for product_name in model_info['preprocessed_text']]"
   ]
  },
  {
   "cell_type": "code",
   "execution_count": 15,
   "id": "6a349094",
   "metadata": {},
   "outputs": [
    {
     "name": "stdout",
     "output_type": "stream",
     "text": [
      "<class 'pandas.core.frame.DataFrame'>\n",
      "RangeIndex: 298790 entries, 0 to 298789\n",
      "Data columns (total 5 columns):\n",
      " #   Column                Non-Null Count   Dtype \n",
      "---  ------                --------------   ----- \n",
      " 0   product_id            298790 non-null  object\n",
      " 1   product_name          298790 non-null  object\n",
      " 2   category_level_1_2_3  298790 non-null  object\n",
      " 3   full_text             298790 non-null  object\n",
      " 4   preprocessed_text     298790 non-null  object\n",
      "dtypes: object(5)\n",
      "memory usage: 11.4+ MB\n"
     ]
    }
   ],
   "source": [
    "model_info.info()"
   ]
  },
  {
   "cell_type": "code",
   "execution_count": 16,
   "id": "9e4cd566",
   "metadata": {},
   "outputs": [],
   "source": [
    "model_info['product_id'] = pd.to_numeric(model_info['product_id'])"
   ]
  },
  {
   "cell_type": "code",
   "execution_count": null,
   "id": "c140ee5b",
   "metadata": {},
   "outputs": [],
   "source": [
    "from annoy import AnnoyIndex\n",
    "\n",
    "annoy_index = AnnoyIndex(len(product_embeddings[0]), 'angular')\n",
    "\n",
    "for product, product_embedding in zip(model_info.iterrows(), product_embeddings):\n",
    "    product_id = product[1]['product_id']\n",
    "    annoy_index.add_item(product_id, product_embedding)\n",
    "\n",
    "annoy_index.build(10)"
   ]
  },
  {
   "cell_type": "code",
   "execution_count": 18,
   "id": "3b2c4ad8",
   "metadata": {},
   "outputs": [],
   "source": [
    "# similar_products = annoy_index.get_nns_by_item(66153365, 10)\n",
    "# products.loc[similar_products]"
   ]
  },
  {
   "cell_type": "code",
   "execution_count": null,
   "id": "edb1ecde",
   "metadata": {},
   "outputs": [],
   "source": []
  }
 ],
 "metadata": {
  "kernelspec": {
   "display_name": "Python 3 (ipykernel)",
   "language": "python",
   "name": "python3"
  },
  "language_info": {
   "codemirror_mode": {
    "name": "ipython",
    "version": 3
   },
   "file_extension": ".py",
   "mimetype": "text/x-python",
   "name": "python",
   "nbconvert_exporter": "python",
   "pygments_lexer": "ipython3",
   "version": "3.9.12"
  }
 },
 "nbformat": 4,
 "nbformat_minor": 5
}
