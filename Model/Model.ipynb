{
 "cells": [
  {
   "cell_type": "code",
   "execution_count": 1,
   "id": "bda3c27b",
   "metadata": {},
   "outputs": [],
   "source": [
    "import pandas as pd\n",
    "from google.cloud import bigquery\n",
    "import fasttext"
   ]
  },
  {
   "cell_type": "code",
   "execution_count": 2,
   "id": "8202f7f2",
   "metadata": {},
   "outputs": [
    {
     "name": "stderr",
     "output_type": "stream",
     "text": [
      "/home/rodrigobenitez/anaconda3/lib/python3.9/site-packages/google/auth/_default.py:79: UserWarning: Your application has authenticated using end user credentials from Google Cloud SDK without a quota project. You might receive a \"quota exceeded\" or \"API not enabled\" error. We recommend you rerun `gcloud auth application-default login` and make sure a quota project is added. Or you can use service accounts instead. For more information about service accounts, see https://cloud.google.com/docs/authentication/\n",
      "  warnings.warn(_CLOUD_SDK_CREDENTIALS_WARNING)\n",
      "/home/rodrigobenitez/anaconda3/lib/python3.9/site-packages/google/auth/_default.py:79: UserWarning: Your application has authenticated using end user credentials from Google Cloud SDK without a quota project. You might receive a \"quota exceeded\" or \"API not enabled\" error. We recommend you rerun `gcloud auth application-default login` and make sure a quota project is added. Or you can use service accounts instead. For more information about service accounts, see https://cloud.google.com/docs/authentication/\n",
      "  warnings.warn(_CLOUD_SDK_CREDENTIALS_WARNING)\n"
     ]
    }
   ],
   "source": [
    "country_id = 1\n",
    "\n",
    "products_query = f\"\"\"\n",
    "    SELECT * \n",
    "    FROM `peya-food-and-groceries.user_rodrigo_benitez.product_categories`\n",
    "    WHERE country_id = {country_id}\n",
    "    \"\"\"\n",
    "\n",
    "client = bigquery.Client()\n",
    "products_ds = client.query(products_query).to_dataframe()"
   ]
  },
  {
   "cell_type": "code",
   "execution_count": 3,
   "id": "c9484078",
   "metadata": {},
   "outputs": [],
   "source": [
    "# TO CSV"
   ]
  },
  {
   "cell_type": "code",
   "execution_count": null,
   "id": "2e4d799a",
   "metadata": {},
   "outputs": [],
   "source": [
    "    "
   ]
  },
  {
   "cell_type": "code",
   "execution_count": null,
   "id": "5bc0fa4c",
   "metadata": {},
   "outputs": [],
   "source": []
  },
  {
   "cell_type": "code",
   "execution_count": 4,
   "id": "1ee38c9f",
   "metadata": {},
   "outputs": [
    {
     "data": {
      "text/html": [
       "<div>\n",
       "<style scoped>\n",
       "    .dataframe tbody tr th:only-of-type {\n",
       "        vertical-align: middle;\n",
       "    }\n",
       "\n",
       "    .dataframe tbody tr th {\n",
       "        vertical-align: top;\n",
       "    }\n",
       "\n",
       "    .dataframe thead th {\n",
       "        text-align: right;\n",
       "    }\n",
       "</style>\n",
       "<table border=\"1\" class=\"dataframe\">\n",
       "  <thead>\n",
       "    <tr style=\"text-align: right;\">\n",
       "      <th></th>\n",
       "      <th>partner_id</th>\n",
       "      <th>partner_name</th>\n",
       "      <th>partner_description</th>\n",
       "      <th>business_type_id</th>\n",
       "      <th>business_type_name</th>\n",
       "      <th>country_id</th>\n",
       "      <th>legacyId_section</th>\n",
       "      <th>section_name</th>\n",
       "      <th>product_legacy_id</th>\n",
       "      <th>product_id</th>\n",
       "      <th>product_name</th>\n",
       "      <th>product_description</th>\n",
       "      <th>gtin</th>\n",
       "      <th>category_level_1_2_3</th>\n",
       "    </tr>\n",
       "  </thead>\n",
       "  <tbody>\n",
       "    <tr>\n",
       "      <th>32940</th>\n",
       "      <td>183068</td>\n",
       "      <td>Punto Shop 33</td>\n",
       "      <td>None</td>\n",
       "      <td>2</td>\n",
       "      <td>Market</td>\n",
       "      <td>1</td>\n",
       "      <td>5801283</td>\n",
       "      <td>Galletas dulces y saladas</td>\n",
       "      <td>101712106</td>\n",
       "      <td>101712106</td>\n",
       "      <td>Galletas Oreo Mini 50g</td>\n",
       "      <td></td>\n",
       "      <td>07622300841461</td>\n",
       "      <td>Snacks | Confectionary | Cookies</td>\n",
       "    </tr>\n",
       "    <tr>\n",
       "      <th>115103</th>\n",
       "      <td>330924</td>\n",
       "      <td>Unni Mercado</td>\n",
       "      <td>None</td>\n",
       "      <td>2</td>\n",
       "      <td>Market</td>\n",
       "      <td>1</td>\n",
       "      <td>4178886</td>\n",
       "      <td>Lácteos y huevos</td>\n",
       "      <td>76169928</td>\n",
       "      <td>76169928</td>\n",
       "      <td>Huevo Blanco Prodhin Pack 15 unidades</td>\n",
       "      <td></td>\n",
       "      <td>07730239000016</td>\n",
       "      <td>Dairy / Chilled / Eggs | Dairy / Eggs | Eggs</td>\n",
       "    </tr>\n",
       "    <tr>\n",
       "      <th>81082</th>\n",
       "      <td>171720</td>\n",
       "      <td>Punto Shop 96</td>\n",
       "      <td>None</td>\n",
       "      <td>2</td>\n",
       "      <td>Market</td>\n",
       "      <td>1</td>\n",
       "      <td>5800985</td>\n",
       "      <td>Limpieza del hogar</td>\n",
       "      <td>101695261</td>\n",
       "      <td>101695261</td>\n",
       "      <td>Jabón Líquido Nevex Para Diluir 500 ml + Botella 3 L Vacía</td>\n",
       "      <td></td>\n",
       "      <td>07730755001955</td>\n",
       "      <td>Home / Pet | Cleaning / Laundry | Laundry</td>\n",
       "    </tr>\n",
       "    <tr>\n",
       "      <th>184797</th>\n",
       "      <td>253456</td>\n",
       "      <td>Sluckis - Mercedes</td>\n",
       "      <td>None</td>\n",
       "      <td>2</td>\n",
       "      <td>Market</td>\n",
       "      <td>1</td>\n",
       "      <td>2889716</td>\n",
       "      <td>Cuidado personal</td>\n",
       "      <td>49790311</td>\n",
       "      <td>49790311</td>\n",
       "      <td>Crema Sleep For Men 40 G</td>\n",
       "      <td></td>\n",
       "      <td>07730287002222</td>\n",
       "      <td>Personal Care / Baby / Health | Personal Care / Beauty | Skin Care</td>\n",
       "    </tr>\n",
       "    <tr>\n",
       "      <th>53126</th>\n",
       "      <td>168524</td>\n",
       "      <td>Carniceria Ecomarket 2</td>\n",
       "      <td>None</td>\n",
       "      <td>2</td>\n",
       "      <td>Market</td>\n",
       "      <td>1</td>\n",
       "      <td>1587914</td>\n",
       "      <td>Pollo</td>\n",
       "      <td>19698159</td>\n",
       "      <td>19698159</td>\n",
       "      <td>Suprema De Pollo 0.8 kg</td>\n",
       "      <td>peso aproximado</td>\n",
       "      <td>02850200308301</td>\n",
       "      <td>Meat / Seafood | Poultry | Chicken</td>\n",
       "    </tr>\n",
       "  </tbody>\n",
       "</table>\n",
       "</div>"
      ],
      "text/plain": [
       "        partner_id            partner_name partner_description  \\\n",
       "32940       183068           Punto Shop 33                None   \n",
       "115103      330924            Unni Mercado                None   \n",
       "81082       171720           Punto Shop 96                None   \n",
       "184797      253456      Sluckis - Mercedes                None   \n",
       "53126       168524  Carniceria Ecomarket 2                None   \n",
       "\n",
       "        business_type_id business_type_name  country_id  legacyId_section  \\\n",
       "32940                  2             Market           1           5801283   \n",
       "115103                 2             Market           1           4178886   \n",
       "81082                  2             Market           1           5800985   \n",
       "184797                 2             Market           1           2889716   \n",
       "53126                  2             Market           1           1587914   \n",
       "\n",
       "                     section_name  product_legacy_id product_id  \\\n",
       "32940   Galletas dulces y saladas          101712106  101712106   \n",
       "115103           Lácteos y huevos           76169928   76169928   \n",
       "81082          Limpieza del hogar          101695261  101695261   \n",
       "184797           Cuidado personal           49790311   49790311   \n",
       "53126                       Pollo           19698159   19698159   \n",
       "\n",
       "                                                      product_name  \\\n",
       "32940                                       Galletas Oreo Mini 50g   \n",
       "115103                       Huevo Blanco Prodhin Pack 15 unidades   \n",
       "81082   Jabón Líquido Nevex Para Diluir 500 ml + Botella 3 L Vacía   \n",
       "184797                                    Crema Sleep For Men 40 G   \n",
       "53126                                      Suprema De Pollo 0.8 kg   \n",
       "\n",
       "       product_description            gtin  \\\n",
       "32940                       07622300841461   \n",
       "115103                      07730239000016   \n",
       "81082                       07730755001955   \n",
       "184797                      07730287002222   \n",
       "53126      peso aproximado  02850200308301   \n",
       "\n",
       "                                                      category_level_1_2_3  \n",
       "32940                                     Snacks | Confectionary | Cookies  \n",
       "115103                        Dairy / Chilled / Eggs | Dairy / Eggs | Eggs  \n",
       "81082                            Home / Pet | Cleaning / Laundry | Laundry  \n",
       "184797  Personal Care / Baby / Health | Personal Care / Beauty | Skin Care  \n",
       "53126                                   Meat / Seafood | Poultry | Chicken  "
      ]
     },
     "execution_count": 4,
     "metadata": {},
     "output_type": "execute_result"
    }
   ],
   "source": [
    "pd.set_option('display.max_colwidth', None)\n",
    "\n",
    "products_ds.sample(5)"
   ]
  },
  {
   "cell_type": "code",
   "execution_count": 5,
   "id": "d6dd4968",
   "metadata": {},
   "outputs": [],
   "source": [
    "model_info = products_ds[['product_id', 'product_name', 'category_level_1_2_3']].fillna('')"
   ]
  },
  {
   "cell_type": "code",
   "execution_count": 6,
   "id": "145b6b73",
   "metadata": {},
   "outputs": [
    {
     "data": {
      "text/html": [
       "<div>\n",
       "<style scoped>\n",
       "    .dataframe tbody tr th:only-of-type {\n",
       "        vertical-align: middle;\n",
       "    }\n",
       "\n",
       "    .dataframe tbody tr th {\n",
       "        vertical-align: top;\n",
       "    }\n",
       "\n",
       "    .dataframe thead th {\n",
       "        text-align: right;\n",
       "    }\n",
       "</style>\n",
       "<table border=\"1\" class=\"dataframe\">\n",
       "  <thead>\n",
       "    <tr style=\"text-align: right;\">\n",
       "      <th></th>\n",
       "      <th>product_id</th>\n",
       "      <th>product_name</th>\n",
       "      <th>category_level_1_2_3</th>\n",
       "    </tr>\n",
       "  </thead>\n",
       "  <tbody>\n",
       "    <tr>\n",
       "      <th>284312</th>\n",
       "      <td>101697924</td>\n",
       "      <td>Bebida isotónica Powerade mountain blast 500 cc.</td>\n",
       "      <td>Beverages | Juice / Ice Tea / Sports / Energy | Sports</td>\n",
       "    </tr>\n",
       "    <tr>\n",
       "      <th>171823</th>\n",
       "      <td>41391655</td>\n",
       "      <td>Harina 000 Cañuelas Paquete 1 kg</td>\n",
       "      <td>Packaged Foods | Cooking / Condiments / Baking / Herbs / Spices | Cooking / Baking</td>\n",
       "    </tr>\n",
       "    <tr>\n",
       "      <th>103580</th>\n",
       "      <td>105226128</td>\n",
       "      <td>Obleas Hipopo Vainilla 84 G.</td>\n",
       "      <td>Snacks | Confectionary | Other Confectionary</td>\n",
       "    </tr>\n",
       "    <tr>\n",
       "      <th>217505</th>\n",
       "      <td>93620160</td>\n",
       "      <td>Café Viaggio En Cápsulas Cioccolato Intensidad 8 55 Gr Caja De 10 Cápsulas</td>\n",
       "      <td>Packaged Foods | Tea / Coffee | Coffee</td>\n",
       "    </tr>\n",
       "    <tr>\n",
       "      <th>273872</th>\n",
       "      <td>100964371</td>\n",
       "      <td>Te Lady Grey 10 Un Twinings</td>\n",
       "      <td>Packaged Foods | Tea / Coffee | Tea</td>\n",
       "    </tr>\n",
       "  </tbody>\n",
       "</table>\n",
       "</div>"
      ],
      "text/plain": [
       "       product_id  \\\n",
       "284312  101697924   \n",
       "171823   41391655   \n",
       "103580  105226128   \n",
       "217505   93620160   \n",
       "273872  100964371   \n",
       "\n",
       "                                                                      product_name  \\\n",
       "284312                            Bebida isotónica Powerade mountain blast 500 cc.   \n",
       "171823                                            Harina 000 Cañuelas Paquete 1 kg   \n",
       "103580                                                Obleas Hipopo Vainilla 84 G.   \n",
       "217505  Café Viaggio En Cápsulas Cioccolato Intensidad 8 55 Gr Caja De 10 Cápsulas   \n",
       "273872                                                 Te Lady Grey 10 Un Twinings   \n",
       "\n",
       "                                                                      category_level_1_2_3  \n",
       "284312                              Beverages | Juice / Ice Tea / Sports / Energy | Sports  \n",
       "171823  Packaged Foods | Cooking / Condiments / Baking / Herbs / Spices | Cooking / Baking  \n",
       "103580                                        Snacks | Confectionary | Other Confectionary  \n",
       "217505                                              Packaged Foods | Tea / Coffee | Coffee  \n",
       "273872                                                 Packaged Foods | Tea / Coffee | Tea  "
      ]
     },
     "execution_count": 6,
     "metadata": {},
     "output_type": "execute_result"
    }
   ],
   "source": [
    "model_info.sample(5)"
   ]
  },
  {
   "cell_type": "markdown",
   "id": "a560b8ad",
   "metadata": {},
   "source": [
    "Proceso de limpieza de texto, aqui se modifican cosas como:\n",
    "- se eliminan numeros\n",
    "- se normaliza texto a lowercase\n",
    "- se elimina simbología especial (Ñ, tildes, dieresis) con librería UNICODE\n",
    "- eliminar UNIDADES de MEDIA ????? (tokenizar y ver palabras de 1,2 y 3 gramas)"
   ]
  },
  {
   "cell_type": "code",
   "execution_count": 7,
   "id": "038ec7fa",
   "metadata": {},
   "outputs": [],
   "source": [
    "import re\n",
    "from unidecode import unidecode\n",
    "\n",
    "def preprocess_text(text):\n",
    "    word = re.sub('\\n', ' ', text, re.UNICODE)\n",
    "    word = unidecode(word)\n",
    "    word = re.sub(r'[^\\w\\s]', '', word, re.UNICODE)\n",
    "    word = re.sub(r\"\\b(\\d+|[a-z])\\b *\", '', word, re.UNICODE)\n",
    "    word = re.sub(r'[0-9]+', '', word)\n",
    "#     word = re.sub(r'[0-9]+', '', word)\n",
    "    word = word.lower()\n",
    "    word = word.strip()\n",
    "    return word"
   ]
  },
  {
   "cell_type": "code",
   "execution_count": 8,
   "id": "9917beea",
   "metadata": {},
   "outputs": [
    {
     "data": {
      "text/html": [
       "<div>\n",
       "<style scoped>\n",
       "    .dataframe tbody tr th:only-of-type {\n",
       "        vertical-align: middle;\n",
       "    }\n",
       "\n",
       "    .dataframe tbody tr th {\n",
       "        vertical-align: top;\n",
       "    }\n",
       "\n",
       "    .dataframe thead th {\n",
       "        text-align: right;\n",
       "    }\n",
       "</style>\n",
       "<table border=\"1\" class=\"dataframe\">\n",
       "  <thead>\n",
       "    <tr style=\"text-align: right;\">\n",
       "      <th></th>\n",
       "      <th>product_id</th>\n",
       "      <th>product_name</th>\n",
       "      <th>category_level_1_2_3</th>\n",
       "      <th>preprocessed_text</th>\n",
       "    </tr>\n",
       "  </thead>\n",
       "  <tbody>\n",
       "    <tr>\n",
       "      <th>242528</th>\n",
       "      <td>90527487</td>\n",
       "      <td>Champignones Revelacion Laminados lata 184G</td>\n",
       "      <td>Packaged Foods | Canned / Jarred / Instant Meals | Canned Vegetables</td>\n",
       "      <td>champignones revelacion laminados lata g</td>\n",
       "    </tr>\n",
       "    <tr>\n",
       "      <th>278566</th>\n",
       "      <td>84544922</td>\n",
       "      <td>Refresco Fanta Naranja 2.25 L</td>\n",
       "      <td></td>\n",
       "      <td>refresco fanta naranja l</td>\n",
       "    </tr>\n",
       "    <tr>\n",
       "      <th>288143</th>\n",
       "      <td>89076882</td>\n",
       "      <td>Cigarros Fiesta Box 20Un</td>\n",
       "      <td>Smoking / Tobacco | Tobacco | Cigarette Sticks</td>\n",
       "      <td>cigarros fiesta box un</td>\n",
       "    </tr>\n",
       "    <tr>\n",
       "      <th>126119</th>\n",
       "      <td>45707342</td>\n",
       "      <td>Vino Adobe Sauvignon Blanco Organico - 750ml</td>\n",
       "      <td>BWS | Wine / Sparkling Wine | White</td>\n",
       "      <td>vino adobe sauvignon blanco organico  ml</td>\n",
       "    </tr>\n",
       "    <tr>\n",
       "      <th>263826</th>\n",
       "      <td>48849548</td>\n",
       "      <td>Agua Salus Frutté Naranja 1,65 L</td>\n",
       "      <td>Beverages | Water | Flavoured</td>\n",
       "      <td>agua salus frutte naranja l</td>\n",
       "    </tr>\n",
       "  </tbody>\n",
       "</table>\n",
       "</div>"
      ],
      "text/plain": [
       "       product_id                                  product_name  \\\n",
       "242528   90527487   Champignones Revelacion Laminados lata 184G   \n",
       "278566   84544922                 Refresco Fanta Naranja 2.25 L   \n",
       "288143   89076882                      Cigarros Fiesta Box 20Un   \n",
       "126119   45707342  Vino Adobe Sauvignon Blanco Organico - 750ml   \n",
       "263826   48849548              Agua Salus Frutté Naranja 1,65 L   \n",
       "\n",
       "                                                        category_level_1_2_3  \\\n",
       "242528  Packaged Foods | Canned / Jarred / Instant Meals | Canned Vegetables   \n",
       "278566                                                                         \n",
       "288143                        Smoking / Tobacco | Tobacco | Cigarette Sticks   \n",
       "126119                                   BWS | Wine / Sparkling Wine | White   \n",
       "263826                                         Beverages | Water | Flavoured   \n",
       "\n",
       "                               preprocessed_text  \n",
       "242528  champignones revelacion laminados lata g  \n",
       "278566                  refresco fanta naranja l  \n",
       "288143                    cigarros fiesta box un  \n",
       "126119  vino adobe sauvignon blanco organico  ml  \n",
       "263826               agua salus frutte naranja l  "
      ]
     },
     "execution_count": 8,
     "metadata": {},
     "output_type": "execute_result"
    }
   ],
   "source": [
    "# model_info['full_text'] = model_info['category_level_1_2_3'] + ' ' + model_info['product_name']\n",
    "model_info['preprocessed_text'] = model_info['product_name'].apply(preprocess_text)\n",
    "\n",
    "model_info.sample(5)"
   ]
  },
  {
   "cell_type": "code",
   "execution_count": 9,
   "id": "2c72f691",
   "metadata": {},
   "outputs": [
    {
     "name": "stdout",
     "output_type": "stream",
     "text": [
      "<class 'pandas.core.frame.DataFrame'>\n",
      "RangeIndex: 298790 entries, 0 to 298789\n",
      "Data columns (total 4 columns):\n",
      " #   Column                Non-Null Count   Dtype \n",
      "---  ------                --------------   ----- \n",
      " 0   product_id            298790 non-null  object\n",
      " 1   product_name          298790 non-null  object\n",
      " 2   category_level_1_2_3  298790 non-null  object\n",
      " 3   preprocessed_text     298790 non-null  object\n",
      "dtypes: object(4)\n",
      "memory usage: 9.1+ MB\n"
     ]
    }
   ],
   "source": [
    "model_info.info()"
   ]
  },
  {
   "cell_type": "code",
   "execution_count": 10,
   "id": "b1a8143b",
   "metadata": {},
   "outputs": [],
   "source": [
    "model_info[['preprocessed_text']].to_csv('/home/rodrigobenitez/Documents/GitHub/Proyecto-Final-IMF/datasets/model_input.csv', index=False)"
   ]
  },
  {
   "cell_type": "code",
   "execution_count": 11,
   "id": "3c1173a2",
   "metadata": {
    "scrolled": false
   },
   "outputs": [],
   "source": [
    "# model = fasttext.train_unsupervised('/home/rodrigobenitez/Documents/GitHub/Proyecto-Final-IMF/datasets/model_input.csv')"
   ]
  },
  {
   "cell_type": "code",
   "execution_count": 12,
   "id": "3fe29bf6",
   "metadata": {},
   "outputs": [],
   "source": [
    "# model.save_model('/home/rodrigobenitez/Documents/GitHub/Proyecto-Final-IMF/Model/no_supervisado.bin')"
   ]
  },
  {
   "cell_type": "code",
   "execution_count": 13,
   "id": "6893b970",
   "metadata": {},
   "outputs": [
    {
     "name": "stderr",
     "output_type": "stream",
     "text": [
      "Warning : `load_model` does not return WordVectorModel or SupervisedModel any more, but a `FastText` object which is very similar.\n"
     ]
    }
   ],
   "source": [
    "model = fasttext.load_model('/home/rodrigobenitez/Documents/GitHub/Proyecto-Final-IMF/Model/no_supervisado.bin')"
   ]
  },
  {
   "cell_type": "code",
   "execution_count": 14,
   "id": "8e2d9fc9",
   "metadata": {},
   "outputs": [
    {
     "name": "stdout",
     "output_type": "stream",
     "text": [
      "Similares a aceite:\n",
      "['aceit', 'aceita', 'acete', 'oliva', 'olivar', 'extvirgen', 'olivas', 'olivo', 'oliovita', 'olivares']\n"
     ]
    }
   ],
   "source": [
    "text_words = ['aceite']\n",
    "for word in text_words:\n",
    "    print(f'Similares a {word}:')\n",
    "    print([words[1] for words in model.get_nearest_neighbors(word)])"
   ]
  },
  {
   "cell_type": "code",
   "execution_count": null,
   "id": "32c64173",
   "metadata": {},
   "outputs": [],
   "source": []
  },
  {
   "cell_type": "code",
   "execution_count": null,
   "id": "80422d08",
   "metadata": {},
   "outputs": [],
   "source": []
  },
  {
   "cell_type": "code",
   "execution_count": 15,
   "id": "2f9f917a",
   "metadata": {},
   "outputs": [],
   "source": [
    "product_embeddings = [model.get_sentence_vector(product_name) for product_name in model_info['preprocessed_text']]"
   ]
  },
  {
   "cell_type": "code",
   "execution_count": 16,
   "id": "6a349094",
   "metadata": {},
   "outputs": [
    {
     "name": "stdout",
     "output_type": "stream",
     "text": [
      "<class 'pandas.core.frame.DataFrame'>\n",
      "RangeIndex: 298790 entries, 0 to 298789\n",
      "Data columns (total 4 columns):\n",
      " #   Column                Non-Null Count   Dtype \n",
      "---  ------                --------------   ----- \n",
      " 0   product_id            298790 non-null  object\n",
      " 1   product_name          298790 non-null  object\n",
      " 2   category_level_1_2_3  298790 non-null  object\n",
      " 3   preprocessed_text     298790 non-null  object\n",
      "dtypes: object(4)\n",
      "memory usage: 9.1+ MB\n"
     ]
    }
   ],
   "source": [
    "model_info.info()"
   ]
  },
  {
   "cell_type": "code",
   "execution_count": 17,
   "id": "9e4cd566",
   "metadata": {},
   "outputs": [],
   "source": [
    "model_info['product_id'] = pd.to_numeric(model_info['product_id'])"
   ]
  },
  {
   "cell_type": "code",
   "execution_count": null,
   "id": "c140ee5b",
   "metadata": {},
   "outputs": [],
   "source": [
    "from annoy import AnnoyIndex\n",
    "\n",
    "annoy_index = AnnoyIndex(len(product_embeddings[0]), 'angular')\n",
    "\n",
    "for product, product_embedding in zip(model_info.iterrows(), product_embeddings):\n",
    "    product_id = product[1]['product_id']\n",
    "    annoy_index.add_item(product_id, product_embedding)\n",
    "\n",
    "annoy_index.build(10)"
   ]
  },
  {
   "cell_type": "code",
   "execution_count": null,
   "id": "3b2c4ad8",
   "metadata": {},
   "outputs": [],
   "source": [
    "# similar_products = annoy_index.get_nns_by_item(66153365, 10)\n",
    "# products.loc[similar_products]"
   ]
  },
  {
   "cell_type": "code",
   "execution_count": null,
   "id": "edb1ecde",
   "metadata": {},
   "outputs": [],
   "source": []
  },
  {
   "cell_type": "code",
   "execution_count": null,
   "id": "74d96f3a",
   "metadata": {},
   "outputs": [],
   "source": [
    "# q = \"coca cola light\"\n",
    "# model.get_sentence_vector(q)\n",
    "# vector = model.get_sentence_vector(q)"
   ]
  },
  {
   "cell_type": "code",
   "execution_count": null,
   "id": "11c30502",
   "metadata": {},
   "outputs": [],
   "source": []
  },
  {
   "cell_type": "code",
   "execution_count": null,
   "id": "01e14812",
   "metadata": {},
   "outputs": [],
   "source": []
  }
 ],
 "metadata": {
  "kernelspec": {
   "display_name": "Python 3 (ipykernel)",
   "language": "python",
   "name": "python3"
  },
  "language_info": {
   "codemirror_mode": {
    "name": "ipython",
    "version": 3
   },
   "file_extension": ".py",
   "mimetype": "text/x-python",
   "name": "python",
   "nbconvert_exporter": "python",
   "pygments_lexer": "ipython3",
   "version": "3.9.12"
  }
 },
 "nbformat": 4,
 "nbformat_minor": 5
}
